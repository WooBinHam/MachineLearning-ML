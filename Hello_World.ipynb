{
  "nbformat": 4,
  "nbformat_minor": 0,
  "metadata": {
    "colab": {
      "provenance": [],
      "authorship_tag": "ABX9TyNrbOzDoXYraRDdJQERAuF0"
    },
    "kernelspec": {
      "name": "python3",
      "display_name": "Python 3"
    },
    "language_info": {
      "name": "python"
    }
  },
  "cells": [
    {
      "cell_type": "code",
      "execution_count": null,
      "metadata": {
        "id": "_9-IkMGowfKk",
        "colab": {
          "base_uri": "https://localhost:8080/"
        },
        "outputId": "46eaea33-84d6-4327-d959-86b0646fa39b"
      },
      "outputs": [
        {
          "output_type": "stream",
          "name": "stdout",
          "text": [
            "Hello World\n"
          ]
        }
      ],
      "source": [
        "print('Hello World')"
      ]
    },
    {
      "cell_type": "code",
      "source": [
        "print('Test')"
      ],
      "metadata": {
        "colab": {
          "base_uri": "https://localhost:8080/"
        },
        "id": "6T0_-TJ13XEn",
        "outputId": "37c20f4e-fcff-49d3-a409-ea7962575219"
      },
      "execution_count": null,
      "outputs": [
        {
          "output_type": "stream",
          "name": "stdout",
          "text": [
            "Test\n"
          ]
        }
      ]
    },
    {
      "cell_type": "code",
      "source": [
        "print('자동 push?')"
      ],
      "metadata": {
        "id": "m4zs3Z3g3oSC",
        "outputId": "6316522f-147e-44fb-db61-e11e832d941f",
        "colab": {
          "base_uri": "https://localhost:8080/"
        }
      },
      "execution_count": null,
      "outputs": [
        {
          "output_type": "stream",
          "name": "stdout",
          "text": [
            "자동 push?\n"
          ]
        }
      ]
    }
  ]
}